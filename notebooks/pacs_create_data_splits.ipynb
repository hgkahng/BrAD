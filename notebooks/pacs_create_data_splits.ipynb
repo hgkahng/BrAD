{
 "cells": [
  {
   "cell_type": "code",
   "execution_count": 1,
   "metadata": {},
   "outputs": [],
   "source": [
    "import os\n",
    "import sys\n",
    "\n",
    "sys.path.insert(\n",
    "    0,\n",
    "    os.path.abspath('../')\n",
    ")"
   ]
  },
  {
   "cell_type": "code",
   "execution_count": 2,
   "metadata": {},
   "outputs": [],
   "source": [
    "from utils.pacs import PACSDataset"
   ]
  },
  {
   "cell_type": "code",
   "execution_count": 3,
   "metadata": {},
   "outputs": [
    {
     "name": "stderr",
     "output_type": "stream",
     "text": [
      "Downloading...\n",
      "From (uriginal): https://drive.google.com/uc?id=1JFr8f805nMUelQWWmfnJR3y4_SYoN5Pd\n",
      "From (redirected): https://drive.google.com/uc?id=1JFr8f805nMUelQWWmfnJR3y4_SYoN5Pd&confirm=t&uuid=e8abf98c-5754-4a98-a566-a8ed09bc74f1\n",
      "To: /Users/hyungu/Documents/LocalWorkspace/BrAD/data/pacs/PACS.zip\n",
      "100%|██████████| 183M/183M [00:06<00:00, 27.0MB/s] \n"
     ]
    }
   ],
   "source": [
    "# Download PACS data\n",
    "ROOT: str = '../data/pacs/'\n",
    "PACSDataset.download(root=ROOT)"
   ]
  },
  {
   "cell_type": "code",
   "execution_count": 27,
   "metadata": {},
   "outputs": [],
   "source": [
    "allowed_domains = ('photo', 'art_painting', 'cartoon', 'sketch')\n",
    "allowed_labels = ('dog', 'elephant', 'giraffe', 'guitar', 'horse', 'house', 'person')"
   ]
  },
  {
   "cell_type": "code",
   "execution_count": 28,
   "metadata": {},
   "outputs": [],
   "source": [
    "import glob\n",
    "import pathlib"
   ]
  },
  {
   "cell_type": "code",
   "execution_count": 31,
   "metadata": {},
   "outputs": [],
   "source": [
    "\"\"\"\n",
    "PACS data folder heirarchy:\n",
    "\n",
    "    data/\n",
    "        pacs/\n",
    "            art_painting/\n",
    "            cartoon/\n",
    "            photo/\n",
    "            sketch/\n",
    "                dog/\n",
    "                elephant/\n",
    "                giraffe/\n",
    "                guitar/\n",
    "                horse/\n",
    "                house/\n",
    "                person/\n",
    "\"\"\"\n",
    "\n",
    "\n",
    "write_dir: str = '../data/pacs/'  # FIXME: change to ROOT\n",
    "\n",
    "for i, domain in enumerate(allowed_domains):\n",
    "    \n",
    "    # find all image files\n",
    "    pattern = os.path.join(ROOT, domain, \"**/*.[jpJP][npNP]*[gG$]\")\n",
    "    img_files = glob.glob(pattern, recursive=True)\n",
    "    img_files = [s.replace(ROOT, '') for s in img_files]\n",
    "    \n",
    "    # create integer class labels\n",
    "    labels = [pathlib.Path(f).parent.name for f in img_files]  # list of strings\n",
    "    labels = [allowed_labels.index(s) for s in labels]         # list of integers\n",
    "\n",
    "    # write split to file\n",
    "    write_file = os.path.join(write_dir, f\"{domain}_train_test.txt\")\n",
    "    with open(write_file, 'w') as f:\n",
    "        for img, l in zip(img_files, labels):\n",
    "            f.write(f\"{img} {l}\")\n",
    "            f.write('\\n')"
   ]
  }
 ],
 "metadata": {
  "kernelspec": {
   "display_name": "torch-2.0",
   "language": "python",
   "name": "python3"
  },
  "language_info": {
   "codemirror_mode": {
    "name": "ipython",
    "version": 3
   },
   "file_extension": ".py",
   "mimetype": "text/x-python",
   "name": "python",
   "nbconvert_exporter": "python",
   "pygments_lexer": "ipython3",
   "version": "3.10.10"
  },
  "orig_nbformat": 4
 },
 "nbformat": 4,
 "nbformat_minor": 2
}
